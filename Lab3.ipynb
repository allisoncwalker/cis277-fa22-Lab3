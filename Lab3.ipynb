{
  "cells": [
    {
      "cell_type": "markdown",
      "metadata": {},
      "source": [
        "# Lab 3 - Video Game Reviews"
      ]
    },
    {
      "cell_type": "code",
      "execution_count": 1,
      "metadata": {
        "id": "gIWe8vk2fPX7"
      },
      "outputs": [],
      "source": [
        "import pandas as pd"
      ]
    },
    {
      "cell_type": "markdown",
      "metadata": {
        "id": "4N0ty0ecrWcn"
      },
      "source": [
        "## Import Data"
      ]
    },
    {
      "cell_type": "code",
      "execution_count": 2,
      "metadata": {
        "id": "qY7nb0rAgWrr"
      },
      "outputs": [],
      "source": [
        "df = pd.read_csv('imdb-videogames.csv')"
      ]
    },
    {
      "cell_type": "code",
      "execution_count": 3,
      "metadata": {
        "colab": {
          "base_uri": "https://localhost:8080/",
          "height": 359
        },
        "id": "eIkZ2SBehFrY",
        "outputId": "8952e428-b938-4933-b581-9be7ddf2cdea"
      },
      "outputs": [
        {
          "data": {
            "text/html": [
              "<div>\n",
              "<style scoped>\n",
              "    .dataframe tbody tr th:only-of-type {\n",
              "        vertical-align: middle;\n",
              "    }\n",
              "\n",
              "    .dataframe tbody tr th {\n",
              "        vertical-align: top;\n",
              "    }\n",
              "\n",
              "    .dataframe thead th {\n",
              "        text-align: right;\n",
              "    }\n",
              "</style>\n",
              "<table border=\"1\" class=\"dataframe\">\n",
              "  <thead>\n",
              "    <tr style=\"text-align: right;\">\n",
              "      <th></th>\n",
              "      <th>Unnamed: 0</th>\n",
              "      <th>name</th>\n",
              "      <th>url</th>\n",
              "      <th>year</th>\n",
              "      <th>certificate</th>\n",
              "      <th>rating</th>\n",
              "      <th>votes</th>\n",
              "      <th>plot summary</th>\n",
              "      <th>Action</th>\n",
              "      <th>Adventure</th>\n",
              "      <th>Comedy</th>\n",
              "      <th>Crime</th>\n",
              "      <th>Family</th>\n",
              "      <th>Fantasy</th>\n",
              "      <th>Mystery</th>\n",
              "      <th>Sci-Fi</th>\n",
              "      <th>Thriller</th>\n",
              "    </tr>\n",
              "  </thead>\n",
              "  <tbody>\n",
              "    <tr>\n",
              "      <th>0</th>\n",
              "      <td>0</td>\n",
              "      <td>Spider-Man</td>\n",
              "      <td>https://www.imdb.com/title/tt5807780/?ref_=adv...</td>\n",
              "      <td>2018.0</td>\n",
              "      <td>T</td>\n",
              "      <td>9.2</td>\n",
              "      <td>20,759</td>\n",
              "      <td>When a new villain threatens New York City, Pe...</td>\n",
              "      <td>True</td>\n",
              "      <td>True</td>\n",
              "      <td>False</td>\n",
              "      <td>False</td>\n",
              "      <td>False</td>\n",
              "      <td>True</td>\n",
              "      <td>False</td>\n",
              "      <td>False</td>\n",
              "      <td>False</td>\n",
              "    </tr>\n",
              "    <tr>\n",
              "      <th>1</th>\n",
              "      <td>1</td>\n",
              "      <td>Red Dead Redemption II</td>\n",
              "      <td>https://www.imdb.com/title/tt6161168/?ref_=adv...</td>\n",
              "      <td>2018.0</td>\n",
              "      <td>M</td>\n",
              "      <td>9.7</td>\n",
              "      <td>35,703</td>\n",
              "      <td>Amidst the decline of the Wild West at the tur...</td>\n",
              "      <td>True</td>\n",
              "      <td>True</td>\n",
              "      <td>False</td>\n",
              "      <td>True</td>\n",
              "      <td>False</td>\n",
              "      <td>False</td>\n",
              "      <td>False</td>\n",
              "      <td>False</td>\n",
              "      <td>False</td>\n",
              "    </tr>\n",
              "    <tr>\n",
              "      <th>2</th>\n",
              "      <td>2</td>\n",
              "      <td>Grand Theft Auto V</td>\n",
              "      <td>https://www.imdb.com/title/tt2103188/?ref_=adv...</td>\n",
              "      <td>2013.0</td>\n",
              "      <td>M</td>\n",
              "      <td>9.5</td>\n",
              "      <td>59,986</td>\n",
              "      <td>Three very different criminals team up for a s...</td>\n",
              "      <td>True</td>\n",
              "      <td>False</td>\n",
              "      <td>False</td>\n",
              "      <td>True</td>\n",
              "      <td>False</td>\n",
              "      <td>False</td>\n",
              "      <td>False</td>\n",
              "      <td>False</td>\n",
              "      <td>False</td>\n",
              "    </tr>\n",
              "    <tr>\n",
              "      <th>3</th>\n",
              "      <td>3</td>\n",
              "      <td>God of War</td>\n",
              "      <td>https://www.imdb.com/title/tt5838588/?ref_=adv...</td>\n",
              "      <td>2018.0</td>\n",
              "      <td>M</td>\n",
              "      <td>9.6</td>\n",
              "      <td>26,118</td>\n",
              "      <td>After wiping out the gods of Mount Olympus, Kr...</td>\n",
              "      <td>True</td>\n",
              "      <td>True</td>\n",
              "      <td>False</td>\n",
              "      <td>False</td>\n",
              "      <td>False</td>\n",
              "      <td>False</td>\n",
              "      <td>False</td>\n",
              "      <td>False</td>\n",
              "      <td>False</td>\n",
              "    </tr>\n",
              "    <tr>\n",
              "      <th>4</th>\n",
              "      <td>4</td>\n",
              "      <td>Uncharted 4: A Thief's End</td>\n",
              "      <td>https://www.imdb.com/title/tt3334704/?ref_=adv...</td>\n",
              "      <td>2016.0</td>\n",
              "      <td>T</td>\n",
              "      <td>9.5</td>\n",
              "      <td>28,722</td>\n",
              "      <td>Thrown back into the dangerous underworld he'd...</td>\n",
              "      <td>True</td>\n",
              "      <td>True</td>\n",
              "      <td>False</td>\n",
              "      <td>False</td>\n",
              "      <td>False</td>\n",
              "      <td>False</td>\n",
              "      <td>False</td>\n",
              "      <td>False</td>\n",
              "      <td>False</td>\n",
              "    </tr>\n",
              "  </tbody>\n",
              "</table>\n",
              "</div>"
            ],
            "text/plain": [
              "   Unnamed: 0                        name  \\\n",
              "0           0                  Spider-Man   \n",
              "1           1      Red Dead Redemption II   \n",
              "2           2          Grand Theft Auto V   \n",
              "3           3                  God of War   \n",
              "4           4  Uncharted 4: A Thief's End   \n",
              "\n",
              "                                                 url    year certificate  \\\n",
              "0  https://www.imdb.com/title/tt5807780/?ref_=adv...  2018.0           T   \n",
              "1  https://www.imdb.com/title/tt6161168/?ref_=adv...  2018.0           M   \n",
              "2  https://www.imdb.com/title/tt2103188/?ref_=adv...  2013.0           M   \n",
              "3  https://www.imdb.com/title/tt5838588/?ref_=adv...  2018.0           M   \n",
              "4  https://www.imdb.com/title/tt3334704/?ref_=adv...  2016.0           T   \n",
              "\n",
              "  rating   votes                                       plot summary  Action  \\\n",
              "0    9.2  20,759  When a new villain threatens New York City, Pe...    True   \n",
              "1    9.7  35,703  Amidst the decline of the Wild West at the tur...    True   \n",
              "2    9.5  59,986  Three very different criminals team up for a s...    True   \n",
              "3    9.6  26,118  After wiping out the gods of Mount Olympus, Kr...    True   \n",
              "4    9.5  28,722  Thrown back into the dangerous underworld he'd...    True   \n",
              "\n",
              "   Adventure  Comedy  Crime  Family  Fantasy  Mystery  Sci-Fi  Thriller  \n",
              "0       True   False  False   False     True    False   False     False  \n",
              "1       True   False   True   False    False    False   False     False  \n",
              "2      False   False   True   False    False    False   False     False  \n",
              "3       True   False  False   False    False    False   False     False  \n",
              "4       True   False  False   False    False    False   False     False  "
            ]
          },
          "execution_count": 3,
          "metadata": {},
          "output_type": "execute_result"
        }
      ],
      "source": [
        "df.head()"
      ]
    },
    {
      "cell_type": "code",
      "execution_count": 4,
      "metadata": {
        "colab": {
          "base_uri": "https://localhost:8080/"
        },
        "id": "eR6x6BUwhptZ",
        "outputId": "e2b94951-3d5d-47bf-e3e4-c5c571d2d879"
      },
      "outputs": [
        {
          "data": {
            "text/plain": [
              "(20805, 17)"
            ]
          },
          "execution_count": 4,
          "metadata": {},
          "output_type": "execute_result"
        }
      ],
      "source": [
        "df.shape"
      ]
    },
    {
      "cell_type": "code",
      "execution_count": 5,
      "metadata": {
        "colab": {
          "base_uri": "https://localhost:8080/"
        },
        "id": "kx4xO7-biEGK",
        "outputId": "a5d0a366-f1eb-46e6-a56b-59699a4d9fad"
      },
      "outputs": [
        {
          "name": "stdout",
          "output_type": "stream",
          "text": [
            "<class 'pandas.core.frame.DataFrame'>\n",
            "RangeIndex: 20805 entries, 0 to 20804\n",
            "Data columns (total 17 columns):\n",
            " #   Column        Non-Null Count  Dtype  \n",
            "---  ------        --------------  -----  \n",
            " 0   Unnamed: 0    20805 non-null  int64  \n",
            " 1   name          20805 non-null  object \n",
            " 2   url           20805 non-null  object \n",
            " 3   year          20538 non-null  float64\n",
            " 4   certificate   7905 non-null   object \n",
            " 5   rating        11602 non-null  object \n",
            " 6   votes         11602 non-null  object \n",
            " 7   plot summary  20805 non-null  object \n",
            " 8   Action        20805 non-null  bool   \n",
            " 9   Adventure     20805 non-null  bool   \n",
            " 10  Comedy        20805 non-null  bool   \n",
            " 11  Crime         20805 non-null  bool   \n",
            " 12  Family        20805 non-null  bool   \n",
            " 13  Fantasy       20805 non-null  bool   \n",
            " 14  Mystery       20805 non-null  bool   \n",
            " 15  Sci-Fi        20805 non-null  bool   \n",
            " 16  Thriller      20805 non-null  bool   \n",
            "dtypes: bool(9), float64(1), int64(1), object(6)\n",
            "memory usage: 1.4+ MB\n"
          ]
        }
      ],
      "source": [
        "df.info()"
      ]
    },
    {
      "cell_type": "code",
      "execution_count": 6,
      "metadata": {},
      "outputs": [
        {
          "data": {
            "text/plain": [
              "T            2474\n",
              "E            2006\n",
              "M            1820\n",
              "E10+          814\n",
              "Unrated       241\n",
              "K-A           229\n",
              "Not Rated     184\n",
              "AO             32\n",
              "GA             26\n",
              "EC             25\n",
              "CE             13\n",
              "12              9\n",
              "PG-13           7\n",
              "MA-13           7\n",
              "Approved        4\n",
              "G               4\n",
              "MA-17           3\n",
              "PG              3\n",
              "TV-MA           2\n",
              "Passed          1\n",
              "TV-14           1\n",
              "Name: certificate, dtype: int64"
            ]
          },
          "execution_count": 6,
          "metadata": {},
          "output_type": "execute_result"
        }
      ],
      "source": [
        "df.certificate.value_counts()"
      ]
    },
    {
      "cell_type": "markdown",
      "metadata": {},
      "source": [
        "## Questions"
      ]
    },
    {
      "cell_type": "markdown",
      "metadata": {},
      "source": [
        "### 1. What is the average rating for Action games?"
      ]
    },
    {
      "cell_type": "code",
      "execution_count": 9,
      "metadata": {},
      "outputs": [
        {
          "data": {
            "text/plain": [
              "0.5735159817351598"
            ]
          },
          "execution_count": 9,
          "metadata": {},
          "output_type": "execute_result"
        }
      ],
      "source": [
        "df.Action.mean()"
      ]
    },
    {
      "cell_type": "markdown",
      "metadata": {},
      "source": [
        "### 2. What is the average rating of games after 2010? What is the average rating of games before (and including) 2010?"
      ]
    },
    {
      "cell_type": "code",
      "execution_count": 25,
      "metadata": {},
      "outputs": [
        {
          "ename": "KeyError",
          "evalue": "\"None of [Index([(True, True, True, True, True, True, True, True, True, True, True, True, True, False, True, True, True, False, True, True, True, True, True, True, True, True, False, False, True, True, False, True, True, True, True, True, True, True, True, True, False, False, True, True, True, True, True, True, True, True, True, True, True, False, True, True, True, True, True, True, False, False, True, True, True, True, True, True, True, True, True, True, True, True, True, True, True, True, True, True, True, False, True, True, True, False, True, True, True, True, True, True, True, False, False, True, True, True, True, False, ...)], dtype='object')] are in the [columns]\"",
          "output_type": "error",
          "traceback": [
            "\u001b[0;31m---------------------------------------------------------------------------\u001b[0m",
            "\u001b[0;31mKeyError\u001b[0m                                  Traceback (most recent call last)",
            "\u001b[0;32m/var/folders/pg/6p7fw10j1155dz2t00ntst440000gn/T/ipykernel_22907/2968865901.py\u001b[0m in \u001b[0;36m<module>\u001b[0;34m\u001b[0m\n\u001b[1;32m      1\u001b[0m \u001b[0mbetween\u001b[0m \u001b[0;34m=\u001b[0m \u001b[0;34m[\u001b[0m\u001b[0mdf\u001b[0m\u001b[0;34m.\u001b[0m\u001b[0myear\u001b[0m \u001b[0;34m>=\u001b[0m \u001b[0;36m2010\u001b[0m\u001b[0;34m]\u001b[0m\u001b[0;34m\u001b[0m\u001b[0;34m\u001b[0m\u001b[0m\n\u001b[1;32m      2\u001b[0m \u001b[0;34m\u001b[0m\u001b[0m\n\u001b[0;32m----> 3\u001b[0;31m \u001b[0mdf\u001b[0m\u001b[0;34m[\u001b[0m\u001b[0mbetween\u001b[0m\u001b[0;34m]\u001b[0m\u001b[0;34m[\u001b[0m\u001b[0;34m'rating'\u001b[0m\u001b[0;34m]\u001b[0m\u001b[0;34m.\u001b[0m\u001b[0mmean\u001b[0m\u001b[0;34m(\u001b[0m\u001b[0;34m)\u001b[0m\u001b[0;34m\u001b[0m\u001b[0;34m\u001b[0m\u001b[0m\n\u001b[0m",
            "\u001b[0;32m~/opt/anaconda3/lib/python3.9/site-packages/pandas/core/frame.py\u001b[0m in \u001b[0;36m__getitem__\u001b[0;34m(self, key)\u001b[0m\n\u001b[1;32m   3462\u001b[0m             \u001b[0;32mif\u001b[0m \u001b[0mis_iterator\u001b[0m\u001b[0;34m(\u001b[0m\u001b[0mkey\u001b[0m\u001b[0;34m)\u001b[0m\u001b[0;34m:\u001b[0m\u001b[0;34m\u001b[0m\u001b[0;34m\u001b[0m\u001b[0m\n\u001b[1;32m   3463\u001b[0m                 \u001b[0mkey\u001b[0m \u001b[0;34m=\u001b[0m \u001b[0mlist\u001b[0m\u001b[0;34m(\u001b[0m\u001b[0mkey\u001b[0m\u001b[0;34m)\u001b[0m\u001b[0;34m\u001b[0m\u001b[0;34m\u001b[0m\u001b[0m\n\u001b[0;32m-> 3464\u001b[0;31m             \u001b[0mindexer\u001b[0m \u001b[0;34m=\u001b[0m \u001b[0mself\u001b[0m\u001b[0;34m.\u001b[0m\u001b[0mloc\u001b[0m\u001b[0;34m.\u001b[0m\u001b[0m_get_listlike_indexer\u001b[0m\u001b[0;34m(\u001b[0m\u001b[0mkey\u001b[0m\u001b[0;34m,\u001b[0m \u001b[0maxis\u001b[0m\u001b[0;34m=\u001b[0m\u001b[0;36m1\u001b[0m\u001b[0;34m)\u001b[0m\u001b[0;34m[\u001b[0m\u001b[0;36m1\u001b[0m\u001b[0;34m]\u001b[0m\u001b[0;34m\u001b[0m\u001b[0;34m\u001b[0m\u001b[0m\n\u001b[0m\u001b[1;32m   3465\u001b[0m \u001b[0;34m\u001b[0m\u001b[0m\n\u001b[1;32m   3466\u001b[0m         \u001b[0;31m# take() does not accept boolean indexers\u001b[0m\u001b[0;34m\u001b[0m\u001b[0;34m\u001b[0m\u001b[0m\n",
            "\u001b[0;32m~/opt/anaconda3/lib/python3.9/site-packages/pandas/core/indexing.py\u001b[0m in \u001b[0;36m_get_listlike_indexer\u001b[0;34m(self, key, axis)\u001b[0m\n\u001b[1;32m   1312\u001b[0m             \u001b[0mkeyarr\u001b[0m\u001b[0;34m,\u001b[0m \u001b[0mindexer\u001b[0m\u001b[0;34m,\u001b[0m \u001b[0mnew_indexer\u001b[0m \u001b[0;34m=\u001b[0m \u001b[0max\u001b[0m\u001b[0;34m.\u001b[0m\u001b[0m_reindex_non_unique\u001b[0m\u001b[0;34m(\u001b[0m\u001b[0mkeyarr\u001b[0m\u001b[0;34m)\u001b[0m\u001b[0;34m\u001b[0m\u001b[0;34m\u001b[0m\u001b[0m\n\u001b[1;32m   1313\u001b[0m \u001b[0;34m\u001b[0m\u001b[0m\n\u001b[0;32m-> 1314\u001b[0;31m         \u001b[0mself\u001b[0m\u001b[0;34m.\u001b[0m\u001b[0m_validate_read_indexer\u001b[0m\u001b[0;34m(\u001b[0m\u001b[0mkeyarr\u001b[0m\u001b[0;34m,\u001b[0m \u001b[0mindexer\u001b[0m\u001b[0;34m,\u001b[0m \u001b[0maxis\u001b[0m\u001b[0;34m)\u001b[0m\u001b[0;34m\u001b[0m\u001b[0;34m\u001b[0m\u001b[0m\n\u001b[0m\u001b[1;32m   1315\u001b[0m \u001b[0;34m\u001b[0m\u001b[0m\n\u001b[1;32m   1316\u001b[0m         if needs_i8_conversion(ax.dtype) or isinstance(\n",
            "\u001b[0;32m~/opt/anaconda3/lib/python3.9/site-packages/pandas/core/indexing.py\u001b[0m in \u001b[0;36m_validate_read_indexer\u001b[0;34m(self, key, indexer, axis)\u001b[0m\n\u001b[1;32m   1372\u001b[0m                 \u001b[0;32mif\u001b[0m \u001b[0muse_interval_msg\u001b[0m\u001b[0;34m:\u001b[0m\u001b[0;34m\u001b[0m\u001b[0;34m\u001b[0m\u001b[0m\n\u001b[1;32m   1373\u001b[0m                     \u001b[0mkey\u001b[0m \u001b[0;34m=\u001b[0m \u001b[0mlist\u001b[0m\u001b[0;34m(\u001b[0m\u001b[0mkey\u001b[0m\u001b[0;34m)\u001b[0m\u001b[0;34m\u001b[0m\u001b[0;34m\u001b[0m\u001b[0m\n\u001b[0;32m-> 1374\u001b[0;31m                 \u001b[0;32mraise\u001b[0m \u001b[0mKeyError\u001b[0m\u001b[0;34m(\u001b[0m\u001b[0;34mf\"None of [{key}] are in the [{axis_name}]\"\u001b[0m\u001b[0;34m)\u001b[0m\u001b[0;34m\u001b[0m\u001b[0;34m\u001b[0m\u001b[0m\n\u001b[0m\u001b[1;32m   1375\u001b[0m \u001b[0;34m\u001b[0m\u001b[0m\n\u001b[1;32m   1376\u001b[0m             \u001b[0mnot_found\u001b[0m \u001b[0;34m=\u001b[0m \u001b[0mlist\u001b[0m\u001b[0;34m(\u001b[0m\u001b[0mensure_index\u001b[0m\u001b[0;34m(\u001b[0m\u001b[0mkey\u001b[0m\u001b[0;34m)\u001b[0m\u001b[0;34m[\u001b[0m\u001b[0mmissing_mask\u001b[0m\u001b[0;34m.\u001b[0m\u001b[0mnonzero\u001b[0m\u001b[0;34m(\u001b[0m\u001b[0;34m)\u001b[0m\u001b[0;34m[\u001b[0m\u001b[0;36m0\u001b[0m\u001b[0;34m]\u001b[0m\u001b[0;34m]\u001b[0m\u001b[0;34m.\u001b[0m\u001b[0munique\u001b[0m\u001b[0;34m(\u001b[0m\u001b[0;34m)\u001b[0m\u001b[0;34m)\u001b[0m\u001b[0;34m\u001b[0m\u001b[0;34m\u001b[0m\u001b[0m\n",
            "\u001b[0;31mKeyError\u001b[0m: \"None of [Index([(True, True, True, True, True, True, True, True, True, True, True, True, True, False, True, True, True, False, True, True, True, True, True, True, True, True, False, False, True, True, False, True, True, True, True, True, True, True, True, True, False, False, True, True, True, True, True, True, True, True, True, True, True, False, True, True, True, True, True, True, False, False, True, True, True, True, True, True, True, True, True, True, True, True, True, True, True, True, True, True, True, False, True, True, True, False, True, True, True, True, True, True, True, False, False, True, True, True, True, False, ...)], dtype='object')] are in the [columns]\""
          ]
        }
      ],
      "source": [
        "between = [df.year >= 2010]\n",
        "\n",
        "df[between].mean()"
      ]
    },
    {
      "cell_type": "markdown",
      "metadata": {},
      "source": [
        "### 3. What games include \"Fallout\" in their title?"
      ]
    },
    {
      "cell_type": "code",
      "execution_count": null,
      "metadata": {},
      "outputs": [
        {
          "data": {
            "text/plain": [
              "29                                Fallout: New Vegas\n",
              "37                                         Fallout 4\n",
              "115                                        Fallout 3\n",
              "207                                       Fallout 76\n",
              "340        Fallout: A Post-Nuclear Role-Playing Game\n",
              "437      Fallout 2: A Post-Nuclear Role-Playing Game\n",
              "1062                           Fallout: The Frontier\n",
              "1233           Fallout Tactics: Brotherhood of Steel\n",
              "1872              Fallout: New Vegas - Honest Hearts\n",
              "1964                            Fallout 4: New Vegas\n",
              "2003                   Fallout: Brotherhood of Steel\n",
              "2117            Fallout: New Vegas - Old World Blues\n",
              "2170                       Fallout Legacy Collection\n",
              "2362               Fallout: New Vegas - Simply Uncut\n",
              "2472                           Fallout 4: Far Harbor\n",
              "2549                 Fallout: New Vegas - Dead Money\n",
              "2681                                  Fallout: Miami\n",
              "2718                   Fallout 4: Fusion City Rising\n",
              "2861                         Fallout: New California\n",
              "3047              Fallout: New Vegas - Lonesome Road\n",
              "3086                       Fallout 4: Heather Casdin\n",
              "3127                        Fallout 3: Point Lookout\n",
              "3141                 Fallout 3: Operation: Anchorage\n",
              "3165                           Fallout 4: Nuka-World\n",
              "3206                         Fallout 3: Broken Steel\n",
              "3440                         Fallout 76: Steel Reign\n",
              "3554                             Fallout 3: The Pitt\n",
              "3615                      Fallout 3: Mothership Zeta\n",
              "3719                          Fallout 76: Steel Dawn\n",
              "3731              Fallout 76: Expeditions - The Pitt\n",
              "4012                    Fallout 4: Capital Wasteland\n",
              "4190                        Fallout 76: Wastelanders\n",
              "5306                           Fallout 4: Automatron\n",
              "8315                       Fallout 4 - Point Lookout\n",
              "9821                               Fallout: Cascadia\n",
              "10013                                      Fallout 4\n",
              "10027                                      Fallout 3\n",
              "10716                              Fallout 4: London\n",
              "12535                  Fallout 4: Wasteland Workshop\n",
              "13598                  Fallout 4: Vault-Tec Workshop\n",
              "14919               Fallout 4: Contraptions Workshop\n",
              "19373      Fallout: A Post-Nuclear Role-Playing Game\n",
              "19425             Fallout New Vegas: Brave New World\n",
              "19513                                Fallout Shelter\n",
              "Name: name, dtype: object"
            ]
          },
          "execution_count": 18,
          "metadata": {},
          "output_type": "execute_result"
        }
      ],
      "source": [
        "erickkk = df.name.str.contains(r'Fallout')\n",
        "\n",
        "df[erickkk].name"
      ]
    },
    {
      "cell_type": "markdown",
      "metadata": {},
      "source": [
        "### 4. What is the most common certificate for Sci-Fi games? "
      ]
    },
    {
      "cell_type": "code",
      "execution_count": null,
      "metadata": {},
      "outputs": [
        {
          "data": {
            "text/plain": [
              "<bound method IndexOpsMixin.value_counts of 0        False\n",
              "1        False\n",
              "2        False\n",
              "3        False\n",
              "4        False\n",
              "         ...  \n",
              "20800    False\n",
              "20801    False\n",
              "20802    False\n",
              "20803    False\n",
              "20804    False\n",
              "Name: name, Length: 20805, dtype: bool>"
            ]
          },
          "execution_count": 20,
          "metadata": {},
          "output_type": "execute_result"
        }
      ],
      "source": [
        "df.name.str.contains(f'Call')."
      ]
    },
    {
      "cell_type": "markdown",
      "metadata": {},
      "source": [
        "### 5. What percent of Thiller games have M or AO certificate?"
      ]
    },
    {
      "cell_type": "code",
      "execution_count": null,
      "metadata": {},
      "outputs": [],
      "source": []
    },
    {
      "cell_type": "markdown",
      "metadata": {},
      "source": [
        "### 6. What is the mean and median rating for Family games? for Action games?"
      ]
    },
    {
      "cell_type": "code",
      "execution_count": null,
      "metadata": {},
      "outputs": [],
      "source": []
    },
    {
      "cell_type": "markdown",
      "metadata": {},
      "source": [
        "### 7. Which game from 2018 got the most votes? "
      ]
    },
    {
      "cell_type": "code",
      "execution_count": null,
      "metadata": {},
      "outputs": [],
      "source": []
    },
    {
      "cell_type": "markdown",
      "metadata": {},
      "source": [
        "### 8. What is the average rating for each genre (Action, Adventure, Comedy, Crime, Family, Fantasy, Mystery, Sci-Fi, and Thriller)?"
      ]
    },
    {
      "cell_type": "code",
      "execution_count": null,
      "metadata": {},
      "outputs": [],
      "source": []
    },
    {
      "cell_type": "markdown",
      "metadata": {},
      "source": [
        "### 9. Which year's games received the most votes?"
      ]
    },
    {
      "cell_type": "code",
      "execution_count": null,
      "metadata": {},
      "outputs": [],
      "source": []
    },
    {
      "cell_type": "markdown",
      "metadata": {},
      "source": [
        "### 10. What's the average number of votes for games that are not Action games?"
      ]
    },
    {
      "cell_type": "code",
      "execution_count": null,
      "metadata": {},
      "outputs": [],
      "source": []
    },
    {
      "cell_type": "markdown",
      "metadata": {},
      "source": [
        "### 11. What game are platformers?"
      ]
    },
    {
      "cell_type": "code",
      "execution_count": null,
      "metadata": {},
      "outputs": [],
      "source": []
    },
    {
      "cell_type": "markdown",
      "metadata": {},
      "source": []
    }
  ],
  "metadata": {
    "colab": {
      "authorship_tag": "ABX9TyPG+ssWMxKywRQDkeiR9E1U",
      "include_colab_link": true,
      "mount_file_id": "1V16IS1TA0CmRy78Zy03QMP9hHtjmYEcW",
      "name": "EDA_10Steps.ipynb",
      "provenance": []
    },
    "kernelspec": {
      "display_name": "Python 3.9.7 ('base')",
      "language": "python",
      "name": "python3"
    },
    "language_info": {
      "codemirror_mode": {
        "name": "ipython",
        "version": 3
      },
      "file_extension": ".py",
      "mimetype": "text/x-python",
      "name": "python",
      "nbconvert_exporter": "python",
      "pygments_lexer": "ipython3",
      "version": "3.9.7"
    },
    "vscode": {
      "interpreter": {
        "hash": "da819fa61496d6fe53c474801bac149596d1f31729fcef551f305afd74db2b27"
      }
    }
  },
  "nbformat": 4,
  "nbformat_minor": 0
}
